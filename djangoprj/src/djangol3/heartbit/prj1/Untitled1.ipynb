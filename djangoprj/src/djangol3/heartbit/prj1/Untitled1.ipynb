{
 "cells": [
  {
   "cell_type": "code",
   "execution_count": 71,
   "metadata": {},
   "outputs": [],
   "source": [
    "import numpy as np\n",
    "import pandas as pd\n",
    "import matplotlib.pyplot as plt\n",
    "import tensorflow as tf\n",
    "import os\n",
    "os.environ['TF_CPP_MIN_LOG_LEVEL']='2'\n",
    "tf.reset_default_graph()\n",
    "neurPerLayer=20\n",
    "def buildNN(numL,neurPerLayer):\n",
    "    num=1\n",
    "    wlst=[]\n",
    "    blst=[]\n",
    "    for i in range(numL):\n",
    "        weight='weight'+str(num)\n",
    "        bias='bias'+str(num)\n",
    "        wlst.append(weight)\n",
    "        blst.append(bias)\n",
    "        num+=1\n",
    "    print(wlst)\n",
    "    nl=0\n",
    "    dictLayers={}\n",
    "    layer='layer'+str(nl)\n",
    "    dictLayers[layer]=[tf.Variable(tf.random_normal([4,neurPerLayer]),name=wlst[0]),tf.Variable(tf.random_normal([neurPerLayer]),name=blst[0])]\n",
    "    for i in range(1,numL-1,1):\n",
    "        nl=i\n",
    "        layer='layer'+str(nl)\n",
    "        dictLayers[layer]=[tf.Variable(tf.random_normal([neurPerLayer,neurPerLayer]),name=wlst[i]),tf.Variable(tf.random_normal([neurPerLayer]),name=blst[i])]\n",
    "        i+=1\n",
    "    layer='layer'+str(numL-1)\n",
    "    dictLayers[layer]=[tf.Variable(tf.random_normal([neurPerLayer,1]),name=wlst[numL-1]),tf.Variable(tf.random_normal([1]),name=blst[numL-1])]\n",
    "        \n",
    "        \n",
    "        \n",
    "    return dictLayers"
   ]
  },
  {
   "cell_type": "code",
   "execution_count": 74,
   "metadata": {},
   "outputs": [
    {
     "name": "stdout",
     "output_type": "stream",
     "text": [
      "['weight1', 'weight2', 'weight3', 'weight4', 'weight5']\n"
     ]
    }
   ],
   "source": [
    "d=buildNN(5,4)"
   ]
  },
  {
   "cell_type": "code",
   "execution_count": null,
   "metadata": {},
   "outputs": [],
   "source": [
    "def Forward(dictLayer):\n",
    "    "
   ]
  },
  {
   "cell_type": "code",
   "execution_count": null,
   "metadata": {},
   "outputs": [],
   "source": []
  },
  {
   "cell_type": "code",
   "execution_count": null,
   "metadata": {},
   "outputs": [],
   "source": []
  }
 ],
 "metadata": {
  "kernelspec": {
   "display_name": "Python 3",
   "language": "python",
   "name": "python3"
  },
  "language_info": {
   "codemirror_mode": {
    "name": "ipython",
    "version": 3
   },
   "file_extension": ".py",
   "mimetype": "text/x-python",
   "name": "python",
   "nbconvert_exporter": "python",
   "pygments_lexer": "ipython3",
   "version": "3.6.6rc1"
  }
 },
 "nbformat": 4,
 "nbformat_minor": 2
}
