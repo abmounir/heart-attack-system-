{
 "cells": [
  {
   "cell_type": "code",
   "execution_count": 179,
   "metadata": {},
   "outputs": [],
   "source": [
    "import numpy as np\n",
    "import pandas as pd\n",
    "import matplotlib.pyplot as plt\n",
    "import tensorflow as tf\n",
    "import os\n",
    "os.environ['TF_CPP_MIN_LOG_LEVEL']='2'\n",
    "tf.reset_default_graph()\n",
    "neurPerLayer=20\n",
    "def buildNN(numL,neurPerLayer):\n",
    "    num=1\n",
    "    wlst=[]\n",
    "    blst=[]\n",
    "    for i in range(numL):\n",
    "        weight='weight'+str(num)\n",
    "        bias='bias'+str(num)\n",
    "        wlst.append(weight)\n",
    "        blst.append(bias)\n",
    "        num+=1\n",
    "    #print(wlst)\n",
    "    nl=0\n",
    "    dictLayers={}\n",
    "    layer='layer'+str(nl)\n",
    "    dictLayers[layer]=[tf.Variable(tf.random_normal([4,neurPerLayer]),name=wlst[0]),tf.Variable(tf.random_normal([neurPerLayer]),name=blst[0])]\n",
    "    for i in range(1,numL-1,1):\n",
    "        nl=i\n",
    "        layer='layer'+str(nl)\n",
    "        dictLayers[layer]=[tf.Variable(tf.random_normal([neurPerLayer,neurPerLayer]),name=wlst[i]),tf.Variable(tf.random_normal([neurPerLayer]),name=blst[i])]\n",
    "        i+=1\n",
    "    layer='layer'+str(numL-1)\n",
    "    dictLayers[layer]=[tf.Variable(tf.random_normal([neurPerLayer,1]),name=wlst[numL-1]),tf.Variable(tf.random_normal([1]),name=blst[numL-1])]\n",
    "        \n",
    "        \n",
    "        \n",
    "    return dictLayers"
   ]
  },
  {
   "cell_type": "code",
   "execution_count": 180,
   "metadata": {},
   "outputs": [
    {
     "name": "stdout",
     "output_type": "stream",
     "text": [
      "303\n"
     ]
    }
   ],
   "source": [
    "#Preprocessing \n",
    "df=pd.read_csv('heart.csv')\n",
    "num_sapmles=270\n",
    "shuffle_df=df.sample(frac=1)\n",
    "outputs=shuffle_df[['target']]\n",
    "no_samples=outputs.shape[0]\n",
    "print(no_samples)\n",
    "inputs=shuffle_df.drop(['target','thalach','exang','oldpeak','slope','ca','thal','age','sex','cp'],axis=1)\n",
    "va=outputs.tail(1).values\n",
    "\n",
    "#scale data\n",
    "\n",
    "inputs=inputs/np.amax(inputs,axis=0)\n",
    "test_x=inputs.tail(30).values\n",
    "test_y=outputs.tail(30).values\n",
    "test_x=np.float32(test_x)\n",
    "test_y=np.float32(test_y)\n",
    "inputs=inputs.head(num_sapmles).values\n",
    "outputs=outputs.head(num_sapmles).values\n",
    "\n",
    "inputs=np.float32(inputs)\n",
    "outputs=np.float32(outputs)"
   ]
  },
  {
   "cell_type": "code",
   "execution_count": 181,
   "metadata": {},
   "outputs": [
    {
     "data": {
      "text/plain": [
       "array([[0.64      , 0.45921987, 0.        , 0.        ],\n",
       "       [0.69      , 0.39539006, 0.        , 0.5       ],\n",
       "       [0.71      , 0.4007092 , 0.        , 0.        ],\n",
       "       [0.625     , 0.53900707, 0.        , 0.        ],\n",
       "       [0.65      , 0.48758864, 0.        , 0.5       ]], dtype=float32)"
      ]
     },
     "execution_count": 181,
     "metadata": {},
     "output_type": "execute_result"
    }
   ],
   "source": [
    "inputs[:5]"
   ]
  },
  {
   "cell_type": "code",
   "execution_count": 182,
   "metadata": {},
   "outputs": [],
   "source": [
    "d=buildNN(8,2)"
   ]
  },
  {
   "cell_type": "code",
   "execution_count": 183,
   "metadata": {},
   "outputs": [
    {
     "data": {
      "text/plain": [
       "{'layer0': [<tf.Variable 'weight1:0' shape=(4, 2) dtype=float32_ref>,\n",
       "  <tf.Variable 'bias1:0' shape=(2,) dtype=float32_ref>],\n",
       " 'layer1': [<tf.Variable 'weight2:0' shape=(2, 2) dtype=float32_ref>,\n",
       "  <tf.Variable 'bias2:0' shape=(2,) dtype=float32_ref>],\n",
       " 'layer2': [<tf.Variable 'weight3:0' shape=(2, 2) dtype=float32_ref>,\n",
       "  <tf.Variable 'bias3:0' shape=(2,) dtype=float32_ref>],\n",
       " 'layer3': [<tf.Variable 'weight4:0' shape=(2, 2) dtype=float32_ref>,\n",
       "  <tf.Variable 'bias4:0' shape=(2,) dtype=float32_ref>],\n",
       " 'layer4': [<tf.Variable 'weight5:0' shape=(2, 2) dtype=float32_ref>,\n",
       "  <tf.Variable 'bias5:0' shape=(2,) dtype=float32_ref>],\n",
       " 'layer5': [<tf.Variable 'weight6:0' shape=(2, 2) dtype=float32_ref>,\n",
       "  <tf.Variable 'bias6:0' shape=(2,) dtype=float32_ref>],\n",
       " 'layer6': [<tf.Variable 'weight7:0' shape=(2, 2) dtype=float32_ref>,\n",
       "  <tf.Variable 'bias7:0' shape=(2,) dtype=float32_ref>],\n",
       " 'layer7': [<tf.Variable 'weight8:0' shape=(2, 1) dtype=float32_ref>,\n",
       "  <tf.Variable 'bias8:0' shape=(1,) dtype=float32_ref>]}"
      ]
     },
     "execution_count": 183,
     "metadata": {},
     "output_type": "execute_result"
    }
   ],
   "source": [
    "d"
   ]
  },
  {
   "cell_type": "code",
   "execution_count": 184,
   "metadata": {},
   "outputs": [],
   "source": [
    "def Forward(dictLayer,inputs):\n",
    "    lst=[]\n",
    "    list_all_outs=[]\n",
    "    o1=tf.nn.sigmoid(tf.add(tf.matmul(inputs,dictLayer['layer0'][0]),dictLayer['layer0'][1]))\n",
    "    lst.append(o1)\n",
    "    list_all_outs.append(o1)\n",
    "    del(dictLayer['layer0'])\n",
    "    print(list_all_outs)\n",
    "    for k in dictLayer:\n",
    "        o=tf.nn.sigmoid(tf.add(tf.matmul(lst[0],dictLayer[k][0]),dictLayer[k][1]))\n",
    "        print(o)\n",
    "        list_all_outs.append(o)\n",
    "        del(lst[0])\n",
    "        lst.append(o)\n",
    "        \n",
    "        \n",
    "        \n",
    "        \n",
    "    \n",
    "    return list_all_outs[-1]"
   ]
  },
  {
   "cell_type": "code",
   "execution_count": 185,
   "metadata": {},
   "outputs": [
    {
     "name": "stdout",
     "output_type": "stream",
     "text": [
      "[<tf.Tensor 'Sigmoid:0' shape=(5, 2) dtype=float32>]\n",
      "Tensor(\"Sigmoid_1:0\", shape=(5, 2), dtype=float32)\n",
      "Tensor(\"Sigmoid_2:0\", shape=(5, 2), dtype=float32)\n",
      "Tensor(\"Sigmoid_3:0\", shape=(5, 2), dtype=float32)\n",
      "Tensor(\"Sigmoid_4:0\", shape=(5, 2), dtype=float32)\n",
      "Tensor(\"Sigmoid_5:0\", shape=(5, 2), dtype=float32)\n",
      "Tensor(\"Sigmoid_6:0\", shape=(5, 2), dtype=float32)\n",
      "Tensor(\"Sigmoid_7:0\", shape=(5, 1), dtype=float32)\n"
     ]
    }
   ],
   "source": [
    "l=Forward(d,inputs[:5])"
   ]
  },
  {
   "cell_type": "code",
   "execution_count": 186,
   "metadata": {},
   "outputs": [
    {
     "data": {
      "text/plain": [
       "<tf.Tensor 'Sigmoid_7:0' shape=(5, 1) dtype=float32>"
      ]
     },
     "execution_count": 186,
     "metadata": {},
     "output_type": "execute_result"
    }
   ],
   "source": [
    "l"
   ]
  },
  {
   "cell_type": "code",
   "execution_count": null,
   "metadata": {},
   "outputs": [],
   "source": []
  }
 ],
 "metadata": {
  "kernelspec": {
   "display_name": "Python 3",
   "language": "python",
   "name": "python3"
  },
  "language_info": {
   "codemirror_mode": {
    "name": "ipython",
    "version": 3
   },
   "file_extension": ".py",
   "mimetype": "text/x-python",
   "name": "python",
   "nbconvert_exporter": "python",
   "pygments_lexer": "ipython3",
   "version": "3.6.6rc1"
  }
 },
 "nbformat": 4,
 "nbformat_minor": 2
}
