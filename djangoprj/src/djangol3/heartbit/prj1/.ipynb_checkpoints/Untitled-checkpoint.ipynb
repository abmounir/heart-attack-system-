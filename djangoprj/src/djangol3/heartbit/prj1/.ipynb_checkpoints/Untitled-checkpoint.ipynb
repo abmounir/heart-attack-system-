{
 "cells": [
  {
   "cell_type": "code",
   "execution_count": 105,
   "metadata": {},
   "outputs": [],
   "source": [
    "import numpy as np\n",
    "import pandas as pd\n",
    "import matplotlib.pyplot as plt\n",
    "import tensorflow as tf\n",
    "import os\n",
    "os.environ['TF_CPP_MIN_LOG_LEVEL']='2'\n",
    "tf.reset_default_graph()"
   ]
  },
  {
   "cell_type": "code",
   "execution_count": 106,
   "metadata": {},
   "outputs": [
    {
     "name": "stdout",
     "output_type": "stream",
     "text": [
      "303\n",
      "(33, 4)\n"
     ]
    }
   ],
   "source": [
    "#Preprocessing \n",
    "df=pd.read_csv('heart.csv')\n",
    "num_sapmles=270\n",
    "shuffle_df=df.sample(frac=1)\n",
    "outputs=shuffle_df[['target']]\n",
    "no_samples=outputs.shape[0]\n",
    "print(no_samples)\n",
    "inputs=shuffle_df.drop(['target','thalach','exang','oldpeak','slope','ca','thal','age','sex','cp'],axis=1)\n",
    "va=outputs.tail(1).values\n",
    "\n",
    "#scale data\n",
    "\n",
    "inputs=inputs/np.amax(inputs,axis=0)\n",
    "test_x=inputs.tail(30).values\n",
    "test_y=outputs.tail(30).values\n",
    "test_x=np.float32(test_x)\n",
    "test_y=np.float32(test_y)\n",
    "inputs=inputs.head(num_sapmles).values\n",
    "outputs=outputs.head(num_sapmles).values\n",
    "\n",
    "inputs=np.float32(inputs)\n",
    "outputs=np.float32(outputs)\n",
    "print(test_x.shape)"
   ]
  },
  {
   "cell_type": "code",
   "execution_count": 107,
   "metadata": {},
   "outputs": [],
   "source": [
    "x=tf.placeholder(tf.float32,[None,4])\n",
    "y=tf.placeholder(tf.float32,[None,1])"
   ]
  },
  {
   "cell_type": "code",
   "execution_count": 108,
   "metadata": {},
   "outputs": [],
   "source": [
    "hidden_nodes1=200\n",
    "hidden_nodes2=100\n",
    "hl1={'weight':tf.Variable(tf.random_normal([4,hidden_nodes1]),name='w1'),'bias':tf.Variable(tf.random_normal([hidden_nodes1]),name='b1')}\n",
    "hl2={'weight':tf.Variable(tf.random_normal([hidden_nodes1,hidden_nodes2]),name='w2'),'bias':tf.Variable(tf.random_normal([hidden_nodes2]),name='b2')}\n",
    "output_layer={'weight':tf.Variable(tf.random_normal([hidden_nodes2,1]),name='w3'),'bias':tf.Variable(tf.random_normal([1]),name='b3')}\n",
    "    \n",
    "\n",
    "#sess=tf.Session()\n",
    "#sess.run(init)\n",
    "\n",
    "l1=tf.add(tf.matmul(inputs,hl1['weight']),hl1['bias'])\n",
    "l1=tf.nn.sigmoid(l1)\n",
    "\n",
    "l2=tf.add(tf.matmul(l1,hl2['weight']),hl2['bias'])\n",
    "l2=tf.nn.sigmoid(l2)\n",
    "\n",
    "out=tf.add(tf.matmul(l2,output_layer['weight']),output_layer['bias'])\n",
    "saver = tf.train.Saver()\n",
    "    \n",
    "\n",
    "#Model(inputs,4,5)"
   ]
  },
  {
   "cell_type": "code",
   "execution_count": 109,
   "metadata": {},
   "outputs": [
    {
     "name": "stdout",
     "output_type": "stream",
     "text": [
      "Tensor(\"Sigmoid_2:0\", shape=(270, 1), dtype=float32)\n",
      "(33, 4)\n",
      "epoch : 0\t Loss : 0.69286025\n",
      "epoch : 1000\t Loss : 0.6927256\n",
      "epoch : 2000\t Loss : 0.6923786\n",
      "epoch : 3000\t Loss : 0.69025004\n",
      "epoch : 4000\t Loss : 0.68094254\n",
      "epoch : 5000\t Loss : 0.68046093\n",
      "epoch : 6000\t Loss : 0.6800717\n",
      "epoch : 7000\t Loss : 0.6797328\n",
      "epoch : 8000\t Loss : 0.67942536\n",
      "epoch : 9000\t Loss : 0.6791393\n",
      "epoch : 10000\t Loss : 0.67886806\n",
      "epoch : 11000\t Loss : 0.6786079\n",
      "epoch : 12000\t Loss : 0.6783573\n",
      "epoch : 13000\t Loss : 0.6781161\n",
      "epoch : 14000\t Loss : 0.6778846\n",
      "epoch : 15000\t Loss : 0.6776643\n",
      "epoch : 16000\t Loss : 0.677456\n",
      "epoch : 17000\t Loss : 0.6772599\n",
      "epoch : 18000\t Loss : 0.6770758\n",
      "epoch : 19000\t Loss : 0.6769031\n"
     ]
    }
   ],
   "source": [
    "def Train(data):\n",
    "    pred=tf.nn.sigmoid(out)\n",
    "    print(pred)\n",
    "    #### init \n",
    "    init=tf.global_variables_initializer()\n",
    "    cross = tf.nn.sigmoid_cross_entropy_with_logits(labels=y, logits=pred)\n",
    "    cost = tf.reduce_mean(cross)\n",
    "    optimizer=tf.train.GradientDescentOptimizer(0.01).minimize(cost)\n",
    "    correct_prediction = tf.equal(tf.round(pred),y, name=\"correct_prediction\")\n",
    "    accuracy = tf.reduce_mean(tf.cast(correct_prediction, tf.float32), name=\"accuracy\")\n",
    "    test_feed = {x:test_x}\n",
    "    print(test_x.shape)\n",
    "    with tf.Session() as sess:\n",
    "        sess.run(init)\n",
    "        for epoch in range(20000) :\n",
    "            c=sess.run(optimizer,feed_dict={x:data,y:outputs}) \n",
    "            cc=sess.run(cost,feed_dict={x:data,y:outputs})\n",
    "            #validation_accuracy = sess.run(accuracy, feed_dict={x: test_x, y: test_y})\n",
    "            if epoch % 1000 == 0 :\n",
    "                print('epoch : '+str(epoch)+'\\t Loss :',(cc))\n",
    "        saver.save(sess, \"./hrt.ckpt\")\n",
    "        w1=sess.run(hl1['weight'])\n",
    "        b1=sess.run(hl1['bias'])\n",
    "        \n",
    "        w2=sess.run(hl2['weight'])\n",
    "        b2=sess.run(hl1['bias'])\n",
    "        \n",
    "        w3=sess.run(output_layer['weight'])\n",
    "        b3=sess.run(output_layer['bias'])\n",
    "       \n",
    "    return w1,b1,w2,b2,w3,b3\n",
    "    ##########################\n",
    "        \n",
    "\n",
    "q,w,e,r,t,y=Train(inputs) \n"
   ]
  },
  {
   "cell_type": "code",
   "execution_count": 110,
   "metadata": {
    "scrolled": false
   },
   "outputs": [
    {
     "name": "stdout",
     "output_type": "stream",
     "text": [
      "INFO:tensorflow:Restoring parameters from ./hrt.ckpt\n"
     ]
    }
   ],
   "source": [
    "tf.reset_default_graph()\n",
    "imported_meta = tf.train.import_meta_graph(\"./hrt.ckpt.meta\") \n",
    "with tf.Session() as sess:\n",
    "    imported_meta.restore(sess, tf.train.latest_checkpoint('./'))\n",
    "    w11=sess.run('w1:0')\n",
    "    b11=sess.run('b1:0')\n",
    "    w22=sess.run('w2:0')\n",
    "    b22=sess.run('b2:0')\n",
    "    w33=sess.run('w3:0')\n",
    "    b33=sess.run('b3:0')\n",
    "    l11=tf.add(tf.matmul(test_x,w11),b11)\n",
    "    l11=tf.nn.sigmoid(l11)\n",
    "\n",
    "    l22=tf.add(tf.matmul(l11,w22),b22)\n",
    "    l22=tf.nn.sigmoid(l22)\n",
    "\n",
    "    outt=tf.add(tf.matmul(l22,w33),b33)\n",
    "    outt=tf.nn.sigmoid(outt)\n",
    "    outt=sess.run(outt)\n",
    "              \n",
    "    \n",
    "    "
   ]
  },
  {
   "cell_type": "code",
   "execution_count": 112,
   "metadata": {
    "scrolled": true
   },
   "outputs": [
    {
     "name": "stdout",
     "output_type": "stream",
     "text": [
      "Accuracy : 60.60606060606061 %\n"
     ]
    }
   ],
   "source": [
    "clf = np.where(outt<0.5,0,1)\n",
    "accrc = np.sum(clf==test_y) / len(test_y)\n",
    "print('Accuracy : '+str(accrc*100)+' %')"
   ]
  },
  {
   "cell_type": "code",
   "execution_count": null,
   "metadata": {},
   "outputs": [],
   "source": []
  },
  {
   "cell_type": "code",
   "execution_count": null,
   "metadata": {},
   "outputs": [],
   "source": []
  }
 ],
 "metadata": {
  "kernelspec": {
   "display_name": "Python 3",
   "language": "python",
   "name": "python3"
  },
  "language_info": {
   "codemirror_mode": {
    "name": "ipython",
    "version": 3
   },
   "file_extension": ".py",
   "mimetype": "text/x-python",
   "name": "python",
   "nbconvert_exporter": "python",
   "pygments_lexer": "ipython3",
   "version": "3.6.6rc1"
  }
 },
 "nbformat": 4,
 "nbformat_minor": 2
}
